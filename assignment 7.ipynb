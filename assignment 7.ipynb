{
 "cells": [
  {
   "cell_type": "code",
   "execution_count": 5,
   "id": "e25ce6f1-4820-49a9-abe8-333372b36679",
   "metadata": {},
   "outputs": [],
   "source": [
    "1. # abstraction can be called function without body . it provide user to create function to their requirement\n",
    "import abc\n",
    "class abstract:\n",
    "    @abc.abstractmethod\n",
    "    def student(self):\n",
    "        pass\n",
    "        \n",
    "    @abc.abstractmethod\n",
    "    def student_marks(self):\n",
    "        pass\n",
    "    \n",
    "    @abc.abstractmethod\n",
    "    def student_course(self):\n",
    "        pass\n"
   ]
  },
  {
   "cell_type": "code",
   "execution_count": 3,
   "id": "8273e148-fa17-4b04-8b01-7949ddef37a2",
   "metadata": {},
   "outputs": [
    {
     "data": {
      "text/plain": [
       "'marks of the student'"
      ]
     },
     "execution_count": 3,
     "metadata": {},
     "output_type": "execute_result"
    }
   ],
   "source": [
    "class student_details(abstract):\n",
    "    def student(self):\n",
    "        return \"name of the student\"\n",
    "        \n",
    "    def student_marks(self):\n",
    "        return \"marks of the student\"\n",
    "        \n",
    "    def student_course(self):\n",
    "        return \"name of the course\"\n",
    "        \n",
    "s=student_details()\n",
    "s.student_marks()"
   ]
  },
  {
   "cell_type": "code",
   "execution_count": null,
   "id": "9f8e9cef-4f1c-4390-b349-9aefe5721e11",
   "metadata": {},
   "outputs": [],
   "source": [
    "2.# abstraction can be called function without body . it provide user to create function to their requirement and it hides implementation of the code and encapsulation menas wrapping the data and method in a single unit and it hides the data from the user.\n",
    "\n",
    "# abstraction example\n",
    "import abc\n",
    "class abstract:\n",
    "    @abc.abstractmethod\n",
    "    def student(self):\n",
    "        pass\n",
    "        \n",
    "    @abc.abstractmethod\n",
    "    def student_marks(self):\n",
    "        pass\n",
    "    \n",
    "    @abc.abstractmethod\n",
    "    def student_course(self):\n",
    "        pass\n",
    "    \n",
    "class student_details(abstract):\n",
    "    def student(self):\n",
    "        return \"name of the student\"\n",
    "        \n",
    "    def student_marks(self):\n",
    "        return \"marks of the student\"\n",
    "        \n",
    "    def student_course(self):\n",
    "        return \"name of the course\"\n",
    "        \n",
    "s=student_details()\n",
    "s.student_marks()   \n",
    "\n"
   ]
  },
  {
   "cell_type": "code",
   "execution_count": 8,
   "id": "86db78b0-c1c6-480d-ab64-824b8e60e686",
   "metadata": {},
   "outputs": [
    {
     "name": "stdout",
     "output_type": "stream",
     "text": [
      "innova\n"
     ]
    },
    {
     "data": {
      "text/plain": [
       "787"
      ]
     },
     "execution_count": 8,
     "metadata": {},
     "output_type": "execute_result"
    }
   ],
   "source": [
    "# encapsulation example\n",
    "class car:\n",
    "    def __init__(self , name ,color ,model ,speed):\n",
    "        self.__name = name\n",
    "        self.__color = color\n",
    "        self.__model = model\n",
    "        self.__speed = 0\n",
    "            \n",
    "    def set_speed(self,speed):\n",
    "        self.__speed = speed\n",
    "            \n",
    "    def get_speed(self):\n",
    "        return self.__speed \n",
    "\n",
    "c= car(\"innova\" , \"black\" , \"maruti\" ,123)\n",
    "print(c._car__name)\n",
    "c.set_speed(787)\n",
    "c.get_speed()\n",
    "\n"
   ]
  },
  {
   "cell_type": "code",
   "execution_count": null,
   "id": "f9a249f5-a060-45b1-b1b4-9d7d9ec969dc",
   "metadata": {},
   "outputs": [],
   "source": [
    "3. abc satnds for abstract base class .it is import to use absract method in the class.  "
   ]
  },
  {
   "cell_type": "code",
   "execution_count": null,
   "id": "5cc22811-ec52-42bb-b6ce-d15f1485fa43",
   "metadata": {},
   "outputs": [],
   "source": [
    "4. we can achieve absraction by using abstractio by using abstrat method and abstrat class.\n",
    "import abc\n",
    "class abstract:\n",
    "    @abc.abstractmethod\n",
    "    def student(self):\n",
    "        pass\n",
    "        \n",
    "    @abc.abstractmethod\n",
    "    def student_marks(self):\n",
    "        pass\n",
    "    \n",
    "    @abc.abstractmethod\n",
    "    def student_course(self):\n",
    "        pass\n"
   ]
  },
  {
   "cell_type": "code",
   "execution_count": null,
   "id": "494f1577-4a69-4a61-82b7-63831561cee2",
   "metadata": {},
   "outputs": [],
   "source": [
    "5. we can not directly create abstract class. python provide us module name abc(absloute base class) by importing it \n",
    "we can use ab"
   ]
  }
 ],
 "metadata": {
  "kernelspec": {
   "display_name": "Python 3 (ipykernel)",
   "language": "python",
   "name": "python3"
  },
  "language_info": {
   "codemirror_mode": {
    "name": "ipython",
    "version": 3
   },
   "file_extension": ".py",
   "mimetype": "text/x-python",
   "name": "python",
   "nbconvert_exporter": "python",
   "pygments_lexer": "ipython3",
   "version": "3.10.8"
  }
 },
 "nbformat": 4,
 "nbformat_minor": 5
}
